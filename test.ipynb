{
 "cells": [
  {
   "cell_type": "code",
   "execution_count": null,
   "metadata": {},
   "outputs": [],
   "source": [
    "import Data_Collection as data\n",
    "import numpy as np\n",
    "import matplotlib.pyplot as plt\n",
    "\n",
    "def time_series(data_dict, plot_title:str='Pressure Response'):\n",
    "    plt.figure(figsize=(15, 10))\n",
    "    plt.rc('xtick', labelsize=20) \n",
    "    plt.rc('ytick', labelsize=20) \n",
    "\n",
    "    for key in data_dict['data'].keys():\n",
    "        p_arr = data_dict['data'][key]['pressures']\n",
    "        time_arr = data_dict['data'][key]['times']\n",
    "\n",
    "        plt.plot(time_arr, (np.array(p_arr) - np.mean(p_arr)))\n",
    "\n",
    "    plt.legend(data_dict['specifications']['stations'],\n",
    "        bbox_to_anchor=(1.125, 1.0),\n",
    "        loc='upper right', fontsize=20)\n",
    "\n",
    "    filter_num = str(data_dict['specifications']['filter'])\n",
    "    plt.title(plot_title + ' %s' % filter_num, fontsize=40)\n",
    "\n",
    "    time_unit = str(data_dict['specifications']['units']['times'])\n",
    "    plt.xlabel('Time (%s)' % time_unit, fontsize=40)\n",
    "\n",
    "    pressure_unit = str(data_dict['specifications']['units']['pressures'])\n",
    "    plt.ylabel('Pressure (%s)' % pressure_unit, fontsize=40)"
   ]
  },
  {
   "cell_type": "code",
   "execution_count": null,
   "metadata": {},
   "outputs": [],
   "source": [
    "path = '/Users/namsonnguyen/OneDrive/Pressures/filter5/Field_Experiments/'\n",
    "file = 'jul25_field_boom.pkl'\n",
    "new_dict = data.reformat(path, file)\n",
    "\n",
    "#time_series(new_dict)"
   ]
  },
  {
   "cell_type": "code",
   "execution_count": null,
   "metadata": {},
   "outputs": [],
   "source": [
    "delta_data = {}\n",
    "delta_data['specifications'] = new_dict['specifications']\n",
    "stations = new_dict['specifications']['stations']\n",
    "for i in range(len(stations)):\n",
    "    for j in range(i+1, len(stations)):\n",
    "        key = str(stations[i] + '-' + stations[j])\n",
    "        new_dict['data'][key] = 'array of values'\n",
    "        print(key)\n",
    "\n"
   ]
  },
  {
   "cell_type": "code",
   "execution_count": null,
   "metadata": {},
   "outputs": [],
   "source": [
    "def excess_path_length(filter_number, p_data):\n",
    "    filter_number = b'IA=%d' % filter_number\n",
    "    delta_data = {}\n",
    "\n",
    "    for i in range(len(p_data)):\n",
    "        for j in range(i+1, len(p_data)):\n",
    "\n",
    "            dataset_1 = np.array(p_data[i][filter_number]['pressures']) - np.mean(p_data[i][filter_number]['pressures'])\n",
    "            dataset_2 = np.array(p_data[j][filter_number]['pressures']) - np.mean(p_data[j][filter_number]['pressures'])\n",
    "\n",
    "            delta_12_name = str((sea_mammals[i])[0:3]) + '-' + str((sea_mammals[j])[0:3])   # Serves as the delta_12 key for delta_data dictionary\n",
    "            delta_data[delta_12_name] = (dataset_1 - dataset_2) * (L_norm / p_norm)\n",
    "\n",
    "    return delta_data\n",
    "\n",
    "def excess_path_length(data_collection, L_norm:float=2000, p_norm:float=1,\n",
    "                       L_norm_units:str='mm', p_norm_units:str='bar'):\n",
    "    delta_data = {}\n",
    "    delta_data['specifications'] = data_collection['specifications']\n",
    "\n",
    "    stations = new_dict['specifications']['stations']\n",
    "    for i in range(len(stations)):\n",
    "        for j in range(i+1, len(stations)):\n",
    "            \n",
    "            p_arr1 = np.array(data_collection['data'][stations[i]]['pressures']) - np.mean(data_collection['data'][stations[i]]['pressures'])\n",
    "            p_arr2 = np.array(data_collection['data'][stations[j]]['pressures']) - np.mean(data_collection['data'][stations[j]]['pressures'])\n",
    "\n",
    "            key = str(stations[i] + '-' + stations[j])\n",
    "            delta_data['data'][key] = (p_arr1 - p_arr2) * (L_norm / p_norm)\n",
    "\n",
    "    return delta_data"
   ]
  }
 ],
 "metadata": {
  "kernelspec": {
   "display_name": "Python 3",
   "language": "python",
   "name": "python3"
  },
  "language_info": {
   "codemirror_mode": {
    "name": "ipython",
    "version": 3
   },
   "file_extension": ".py",
   "mimetype": "text/x-python",
   "name": "python",
   "nbconvert_exporter": "python",
   "pygments_lexer": "ipython3",
   "version": "3.9.6"
  }
 },
 "nbformat": 4,
 "nbformat_minor": 2
}
